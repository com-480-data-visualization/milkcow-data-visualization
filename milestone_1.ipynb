{
 "cells": [
  {
   "cell_type": "code",
   "execution_count": null,
   "metadata": {},
   "outputs": [],
   "source": [
    "import matplotlib.pyplot as plt\n",
    "import matplotlib.ticker as mticker\n",
    "import numpy as np\n",
    "import pandas as pd\n",
    "\n",
    "# Load datasets\n",
    "milkcow_facts = pd.read_csv(\"dataset/milkcow_facts.csv\")\n",
    "fluid_milk_sales = pd.read_csv(\"dataset/fluid_milk_sales.csv\")\n",
    "milk_products_facts = pd.read_csv(\"dataset/milk_products_facts.csv\")\n",
    "clean_cheese = pd.read_csv(\"dataset/clean_cheese.csv\")\n",
    "state_milk_production = pd.read_csv(\"dataset/state_milk_production.csv\")\n",
    "\n",
    "# Display basic info\n",
    "datasets = {\n",
    "    \"milkcow_facts\": milkcow_facts,\n",
    "    \"fluid_milk_sales\": fluid_milk_sales,\n",
    "    \"milk_products_facts\": milk_products_facts,\n",
    "    \"clean_cheese\": clean_cheese,\n",
    "    \"state_milk_production\": state_milk_production,\n",
    "}"
   ]
  },
  {
   "cell_type": "markdown",
   "metadata": {},
   "source": [
    "# Basic Info"
   ]
  },
  {
   "cell_type": "code",
   "execution_count": null,
   "metadata": {},
   "outputs": [],
   "source": [
    "for name, df in datasets.items():\n",
    "    print(f\"Dataset: {name}\")\n",
    "    display(df.head())\n",
    "    print(df.info())\n",
    "    print(\"\\n\" + \"=\"*80 + \"\\n\")\n",
    "\n",
    "# Check for missing values\n",
    "for name, df in datasets.items():\n",
    "    print(f\"Missing values in {name}:\")\n",
    "    print(df.isnull().sum())\n",
    "    print(\"\\n\" + \"=\"*80 + \"\\n\")"
   ]
  },
  {
   "cell_type": "markdown",
   "metadata": {},
   "source": [
    "# Basic Statistical Summary"
   ]
  },
  {
   "cell_type": "code",
   "execution_count": null,
   "metadata": {},
   "outputs": [],
   "source": [
    "for name, df in datasets.items():\n",
    "    print(f\"Summary statistics for {name}:\")\n",
    "    display(df.describe())\n",
    "    print(\"\\n\" + \"=\"*80 + \"\\n\")"
   ]
  },
  {
   "cell_type": "markdown",
   "metadata": {},
   "source": [
    "# Milk Production Trends Over Time"
   ]
  },
  {
   "cell_type": "code",
   "execution_count": null,
   "metadata": {},
   "outputs": [],
   "source": [
    "top_milk_years = milkcow_facts.nlargest(5, \"milk_production_lbs\")[[\"year\", \"milk_production_lbs\"]]\n",
    "print(\"Top 5 years with highest milk production:\")\n",
    "display(top_milk_years)"
   ]
  },
  {
   "cell_type": "code",
   "execution_count": null,
   "metadata": {},
   "outputs": [],
   "source": [
    "milkcow_facts[\"year\"] = pd.to_datetime(milkcow_facts[\"year\"], format=\"%Y\")\n",
    "milkcow_facts.sort_values(\"year\", inplace=True)\n",
    "\n",
    "plt.figure(figsize=(10, 5))\n",
    "plt.plot(milkcow_facts[\"year\"], milkcow_facts[\"milk_production_lbs\"], marker=\"o\", linestyle=\"-\", label=\"Total Milk Production\")\n",
    "\n",
    "plt.xlabel(\"Year\")\n",
    "plt.ylabel(\"Milk Production (lbs)\")\n",
    "plt.title(\"Total Milk Production Over Time\")\n",
    "\n",
    "def format_yaxis(value, _):\n",
    "    return f\"{value/1e9:.1f}B\"\n",
    "\n",
    "plt.gca().yaxis.set_major_formatter(mticker.FuncFormatter(format_yaxis))\n",
    "\n",
    "plt.legend()\n",
    "plt.grid()\n",
    "plt.show()"
   ]
  },
  {
   "cell_type": "markdown",
   "metadata": {},
   "source": [
    "# Milk Price vs. Dairy Ration Price Trend"
   ]
  },
  {
   "cell_type": "code",
   "execution_count": null,
   "metadata": {},
   "outputs": [],
   "source": [
    "plt.figure(figsize=(10, 5))\n",
    "plt.plot(milkcow_facts[\"year\"], milkcow_facts[\"avg_price_milk\"], marker=\"o\", label=\"Milk Price ($/lb)\")\n",
    "plt.plot(milkcow_facts[\"year\"], milkcow_facts[\"dairy_ration\"], marker=\"o\", linestyle=\"dashed\", label=\"Dairy Ration Price ($/lb)\")\n",
    "plt.xlabel(\"Year\")\n",
    "plt.ylabel(\"Price ($ per pound)\")\n",
    "plt.title(\"Milk Price vs. Dairy Ration Price Over Time\")\n",
    "plt.legend()\n",
    "plt.grid()\n",
    "plt.show()"
   ]
  },
  {
   "cell_type": "markdown",
   "metadata": {},
   "source": [
    "# State-wise Milk Production"
   ]
  },
  {
   "cell_type": "code",
   "execution_count": null,
   "metadata": {},
   "outputs": [],
   "source": [
    "state_milk_production_grouped = state_milk_production.groupby(\"state\")[\"milk_produced\"].sum().sort_values(ascending=False)\n",
    "\n",
    "plt.figure(figsize=(12, 6))\n",
    "state_milk_production_grouped.head(10).plot(kind=\"bar\", color=\"skyblue\")\n",
    "plt.xlabel(\"State\")\n",
    "plt.ylabel(\"Total Milk Produced (lbs)\")\n",
    "plt.title(\"Top 10 States in Milk Production\")\n",
    "plt.xticks(rotation=45)\n",
    "plt.show()"
   ]
  },
  {
   "cell_type": "markdown",
   "metadata": {},
   "source": [
    "# Trends in Dairy Product Consumption (Cheese & Butter)"
   ]
  },
  {
   "cell_type": "code",
   "execution_count": null,
   "metadata": {},
   "outputs": [],
   "source": [
    "milk_products_facts[\"year\"] = pd.to_datetime(milk_products_facts[\"year\"], format=\"%Y\")\n",
    "\n",
    "plt.figure(figsize=(12, 6))\n",
    "plt.plot(milk_products_facts[\"year\"], milk_products_facts[\"cheese_american\"], marker=\"o\", label=\"American Cheese\")\n",
    "plt.plot(milk_products_facts[\"year\"], milk_products_facts[\"cheese_other\"], marker=\"o\", linestyle=\"dashed\", label=\"Other Cheese\")\n",
    "plt.plot(milk_products_facts[\"year\"], milk_products_facts[\"butter\"], marker=\"o\", linestyle=\"dotted\", label=\"Butter\")\n",
    "plt.xlabel(\"Year\")\n",
    "plt.ylabel(\"Consumption per Person (lbs)\")\n",
    "plt.title(\"Cheese & Butter Consumption Trends\")\n",
    "plt.legend()\n",
    "plt.grid()\n",
    "plt.show()"
   ]
  },
  {
   "cell_type": "markdown",
   "metadata": {},
   "source": [
    "# Cheese Consumption Trends"
   ]
  },
  {
   "cell_type": "code",
   "execution_count": null,
   "metadata": {},
   "outputs": [],
   "source": [
    "clean_cheese[\"Year\"] = pd.to_datetime(clean_cheese[\"Year\"], format=\"%Y\")\n",
    "\n",
    "plt.figure(figsize=(12, 6))\n",
    "plt.plot(clean_cheese[\"Year\"], clean_cheese[\"Cheddar\"], marker=\"o\", label=\"Cheddar\")\n",
    "plt.plot(clean_cheese[\"Year\"], clean_cheese[\"Mozzarella\"], marker=\"o\", linestyle=\"dashed\", label=\"Mozzarella\")\n",
    "plt.plot(clean_cheese[\"Year\"], clean_cheese[\"Swiss\"], marker=\"o\", linestyle=\"dotted\", label=\"Swiss\")\n",
    "plt.xlabel(\"Year\")\n",
    "plt.ylabel(\"Consumption per Person (lbs)\")\n",
    "plt.title(\"Trends in Cheese Consumption\")\n",
    "plt.legend()\n",
    "plt.grid()\n",
    "plt.show()"
   ]
  }
 ],
 "metadata": {
  "kernelspec": {
   "display_name": "jupyter-env",
   "language": "python",
   "name": "python3"
  },
  "language_info": {
   "codemirror_mode": {
    "name": "ipython",
    "version": 3
   },
   "file_extension": ".py",
   "mimetype": "text/x-python",
   "name": "python",
   "nbconvert_exporter": "python",
   "pygments_lexer": "ipython3",
   "version": "3.12.9"
  }
 },
 "nbformat": 4,
 "nbformat_minor": 2
}
